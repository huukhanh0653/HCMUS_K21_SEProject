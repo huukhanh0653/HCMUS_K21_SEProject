{
 "cells": [
  {
   "cell_type": "code",
   "execution_count": 1,
   "metadata": {},
   "outputs": [
    {
     "name": "stdout",
     "output_type": "stream",
     "text": [
      "Defaulting to user installation because normal site-packages is not writeable\n",
      "Requirement already satisfied: pandas in c:\\programdata\\anaconda3\\lib\\site-packages (2.2.2)\n",
      "Requirement already satisfied: numpy>=1.26.0 in c:\\programdata\\anaconda3\\lib\\site-packages (from pandas) (1.26.4)\n",
      "Requirement already satisfied: python-dateutil>=2.8.2 in c:\\programdata\\anaconda3\\lib\\site-packages (from pandas) (2.9.0.post0)\n",
      "Requirement already satisfied: pytz>=2020.1 in c:\\programdata\\anaconda3\\lib\\site-packages (from pandas) (2024.1)\n",
      "Requirement already satisfied: tzdata>=2022.7 in c:\\programdata\\anaconda3\\lib\\site-packages (from pandas) (2023.3)\n",
      "Requirement already satisfied: six>=1.5 in c:\\programdata\\anaconda3\\lib\\site-packages (from python-dateutil>=2.8.2->pandas) (1.16.0)\n",
      "Note: you may need to restart the kernel to use updated packages.\n",
      "Defaulting to user installation because normal site-packages is not writeable\n",
      "Requirement already satisfied: numpy in c:\\programdata\\anaconda3\\lib\\site-packages (1.26.4)\n",
      "Note: you may need to restart the kernel to use updated packages.\n",
      "Defaulting to user installation because normal site-packages is not writeable\n",
      "Collecting faker\n",
      "  Downloading Faker-36.1.1-py3-none-any.whl.metadata (15 kB)\n",
      "Requirement already satisfied: tzdata in c:\\programdata\\anaconda3\\lib\\site-packages (from faker) (2023.3)\n",
      "Downloading Faker-36.1.1-py3-none-any.whl (1.9 MB)\n",
      "   ---------------------------------------- 0.0/1.9 MB ? eta -:--:--\n",
      "   --------------------------- ------------ 1.3/1.9 MB 11.2 MB/s eta 0:00:01\n",
      "   ---------------------------------------- 1.9/1.9 MB 10.5 MB/s eta 0:00:00\n",
      "Installing collected packages: faker\n",
      "Successfully installed faker-36.1.1\n",
      "Note: you may need to restart the kernel to use updated packages.\n"
     ]
    },
    {
     "name": "stderr",
     "output_type": "stream",
     "text": [
      "  WARNING: The script faker.exe is installed in 'C:\\Users\\nhk06\\AppData\\Roaming\\Python\\Python312\\Scripts' which is not on PATH.\n",
      "  Consider adding this directory to PATH or, if you prefer to suppress this warning, use --no-warn-script-location.\n"
     ]
    }
   ],
   "source": [
    "%pip install pandas\n",
    "%pip install numpy\n",
    "%pip install faker"
   ]
  },
  {
   "cell_type": "code",
   "execution_count": 1,
   "metadata": {},
   "outputs": [
    {
     "name": "stdout",
     "output_type": "stream",
     "text": [
      "Dữ liệu đã được tạo và lưu vào file account_data.csv\n"
     ]
    }
   ],
   "source": [
    "import pandas as pd\n",
    "import random\n",
    "from faker import Faker\n",
    "\n",
    "fake = Faker()\n",
    "\n",
    "# Số lượng tài khoản\n",
    "num_accounts = 5000\n",
    "\n",
    "# Tạo danh sách các roles\n",
    "roles = ['admin', 'user', 'moderator']\n",
    "\n",
    "# Tạo dữ liệu ảo\n",
    "data = []\n",
    "for _ in range(num_accounts):\n",
    "    account = {\n",
    "        'ID': fake.uuid4(),\n",
    "        'FullName': fake.name(),\n",
    "        'DOB': fake.date_of_birth(minimum_age=18, maximum_age=90).strftime('%Y-%m-%d'),\n",
    "        'CreatedAt': fake.date_this_decade().strftime('%Y-%m-%d'),\n",
    "        'UserName': fake.email(),\n",
    "        'Roles': random.choice(roles),\n",
    "    }\n",
    "    data.append(account)\n",
    "\n",
    "# Chuyển dữ liệu thành DataFrame\n",
    "df = pd.DataFrame(data)\n",
    "\n",
    "# Lưu dữ liệu vào file CSV\n",
    "df.to_csv('account_data.csv', index=False, encoding='utf-8-sig')\n",
    "\n",
    "print(\"Dữ liệu đã được tạo và lưu vào file account_data.csv\")"
   ]
  },
  {
   "cell_type": "code",
   "execution_count": 2,
   "metadata": {},
   "outputs": [],
   "source": [
    "import pyodbc\n",
    "\n",
    "# Kết nối đến cơ sở dữ liệu MSSQL\n",
    "conn_str = (\n",
    "    \"DRIVER={ODBC Driver 17 for SQL Server};\"\n",
    "    \"SERVER=localhost,1433;\"\n",
    "    \"DATABASE=master;\"\n",
    "    \"UID=sa;\"\n",
    "    \"PWD=Khanh076942542\"\n",
    ")\n",
    "conn = pyodbc.connect(conn_str)\n",
    "cursor = conn.cursor()\n"
   ]
  },
  {
   "cell_type": "code",
   "execution_count": 3,
   "metadata": {},
   "outputs": [
    {
     "name": "stdout",
     "output_type": "stream",
     "text": [
      "Dữ liệu đã được chèn vào bảng accounts trong file accounts.db\n"
     ]
    }
   ],
   "source": [
    "\n",
    "# Tạo bảng accounts nếu chưa tồn tại\n",
    "cursor.execute('''\n",
    "IF NOT EXISTS (SELECT * FROM sysobjects WHERE name='accounts' AND xtype='U')\n",
    "CREATE TABLE accounts (\n",
    "    ID NVARCHAR(50) PRIMARY KEY,\n",
    "    FullName NVARCHAR(100),\n",
    "    DOB DATE,\n",
    "    CreatedAt DATE,\n",
    "    UserName NVARCHAR(100),\n",
    "    Roles NVARCHAR(50)\n",
    ")\n",
    "''')\n",
    "\n",
    "# Chèn dữ liệu từ DataFrame vào bảng accounts\n",
    "for index, row in df.iterrows():\n",
    "    cursor.execute('''\n",
    "    INSERT INTO accounts (ID, FullName, DOB, CreatedAt, UserName, Roles)\n",
    "    VALUES (?, ?, ?, ?, ?, ?)\n",
    "    ''', (row['ID'], row['FullName'], row['DOB'], row['CreatedAt'], row['UserName'], row['Roles']))\n",
    "\n",
    "# Lưu các thay đổi và đóng kết nối\n",
    "conn.commit()\n",
    "conn.close()\n",
    "\n",
    "print(\"Dữ liệu đã được chèn vào bảng accounts trong file accounts.db\")"
   ]
  }
 ],
 "metadata": {
  "kernelspec": {
   "display_name": "base",
   "language": "python",
   "name": "python3"
  },
  "language_info": {
   "codemirror_mode": {
    "name": "ipython",
    "version": 3
   },
   "file_extension": ".py",
   "mimetype": "text/x-python",
   "name": "python",
   "nbconvert_exporter": "python",
   "pygments_lexer": "ipython3",
   "version": "3.12.7"
  }
 },
 "nbformat": 4,
 "nbformat_minor": 2
}
